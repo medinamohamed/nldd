{
 "cells": [
  {
   "cell_type": "code",
   "execution_count": 1,
   "id": "468e0da7",
   "metadata": {},
   "outputs": [],
   "source": [
    "import requests\n",
    "import urllib.parse"
   ]
  },
  {
   "cell_type": "code",
   "execution_count": 2,
   "id": "5afb695a",
   "metadata": {},
   "outputs": [],
   "source": [
    "url = 'https://www.google.com/maps/d/u/0/viewer?mid=1qlSKPsGQbmsehtHsK-59DomxELh5gD4X&ll=45.53559099999999%2C-73.619412&z=13'"
   ]
  },
  {
   "cell_type": "code",
   "execution_count": 6,
   "id": "d26dca95",
   "metadata": {},
   "outputs": [
    {
     "data": {
      "text/plain": [
       "{'mid': ['1qlSKPsGQbmsehtHsK-59DomxELh5gD4X'],\n",
       " 'll': ['45.53559099999999,-73.619412'],\n",
       " 'z': ['13']}"
      ]
     },
     "execution_count": 6,
     "metadata": {},
     "output_type": "execute_result"
    }
   ],
   "source": [
    "from urllib.parse import urlsplit, parse_qs\n",
    "\n",
    "url = 'https://www.google.com/maps/d/u/0/viewer?mid=1qlSKPsGQbmsehtHsK-59DomxELh5gD4X&ll=45.53559099999999%2C-73.619412&z=13'\n",
    "query = urlsplit(url).query\n",
    "params = parse_qs(query)\n",
    "params"
   ]
  },
  {
   "cell_type": "code",
   "execution_count": 7,
   "id": "e10c43e0",
   "metadata": {},
   "outputs": [
    {
     "data": {
      "text/plain": [
       "{'mid': ['1qlSKPsGQbmsehtHsK-59DomxELh5gD4X'],\n",
       " 'll': ['45.58662600000001,-73.597534'],\n",
       " 'z': ['10']}"
      ]
     },
     "execution_count": 7,
     "metadata": {},
     "output_type": "execute_result"
    }
   ],
   "source": [
    "url = 'https://www.google.com/maps/d/u/0/viewer?mid=1qlSKPsGQbmsehtHsK-59DomxELh5gD4X&ll=45.58662600000001%2C-73.597534&z=10'\n",
    "query = urlsplit(url).query\n",
    "params = parse_qs(query)\n",
    "params"
   ]
  },
  {
   "cell_type": "code",
   "execution_count": 8,
   "id": "f0743a70",
   "metadata": {},
   "outputs": [
    {
     "data": {
      "text/plain": [
       "{'mid': ['1qlSKPsGQbmsehtHsK-59DomxELh5gD4X'],\n",
       " 'll': ['45.53555000000003,-73.625195'],\n",
       " 'z': ['10']}"
      ]
     },
     "execution_count": 8,
     "metadata": {},
     "output_type": "execute_result"
    }
   ],
   "source": [
    "url = 'https://www.google.com/maps/d/u/0/viewer?mid=1qlSKPsGQbmsehtHsK-59DomxELh5gD4X&ll=45.53555000000003%2C-73.625195&z=10'\n",
    "query = urlsplit(url).query\n",
    "params = parse_qs(query)\n",
    "params"
   ]
  },
  {
   "cell_type": "code",
   "execution_count": 26,
   "id": "97ee1678",
   "metadata": {},
   "outputs": [],
   "source": [
    "str(params['ll'][0]).split(\",\")\n",
    "#params['ll'].split(\",\")\n",
    "ll = list(str(params['ll'][0]).split(\",\"))"
   ]
  },
  {
   "cell_type": "code",
   "execution_count": 31,
   "id": "fd7a4690",
   "metadata": {},
   "outputs": [
    {
     "data": {
      "text/plain": [
       "'-73.625195'"
      ]
     },
     "execution_count": 31,
     "metadata": {},
     "output_type": "execute_result"
    }
   ],
   "source": [
    "ll[1]\n"
   ]
  },
  {
   "cell_type": "code",
   "execution_count": 54,
   "id": "2d665d8d",
   "metadata": {},
   "outputs": [],
   "source": [
    "def getll(url):\n",
    "    \n",
    "    query = urlsplit(url).query\n",
    "    params = parse_qs(query)\n",
    "    \n",
    "    lng = list(str(params['ll'][0]).split(\",\"))[0]\n",
    "    lat = list(str(params['ll'][0]).split(\",\"))[1]\n",
    "    \n",
    "    return {'lng': lng,'lat': lat}"
   ]
  },
  {
   "cell_type": "code",
   "execution_count": 55,
   "id": "7f5987d8",
   "metadata": {},
   "outputs": [
    {
     "data": {
      "text/plain": [
       "{'lng': '45.53555000000003', 'lat': '-73.625195'}"
      ]
     },
     "execution_count": 55,
     "metadata": {},
     "output_type": "execute_result"
    }
   ],
   "source": [
    "getll('https://www.google.com/maps/d/u/0/viewer?mid=1qlSKPsGQbmsehtHsK-59DomxELh5gD4X&ll=45.53555000000003%2C-73.625195&z=10')"
   ]
  },
  {
   "cell_type": "code",
   "execution_count": 40,
   "id": "ac2e19ab",
   "metadata": {},
   "outputs": [],
   "source": [
    "urls_mylene = ['https://www.google.com/maps/d/u/0/viewer?mid=1qlSKPsGQbmsehtHsK-59DomxELh5gD4X&ll=45.57087299999998%2C-73.63287300000002&z=13',\n",
    "               'https://www.google.com/maps/d/u/0/viewer?mid=1qlSKPsGQbmsehtHsK-59DomxELh5gD4X&ll=45.58662600000001%2C-73.597534&z=13',\n",
    "              'https://www.google.com/maps/d/u/0/viewer?mid=1qlSKPsGQbmsehtHsK-59DomxELh5gD4X&ll=45.569048000000066%2C-73.63539700000001&z=13',\n",
    "              'https://www.google.com/maps/d/u/0/viewer?mid=1qlSKPsGQbmsehtHsK-59DomxELh5gD4X&ll=45.565422000000005%2C-73.60729399999998&z=13',\n",
    "              'https://www.google.com/maps/d/u/0/viewer?mid=1qlSKPsGQbmsehtHsK-59DomxELh5gD4X&ll=45.57765600000006%2C-73.609994&z=13',\n",
    "              'https://www.google.com/maps/d/u/0/viewer?mid=1qlSKPsGQbmsehtHsK-59DomxELh5gD4X&ll=45.574599000000006%2C-73.60965600000002&z=13',\n",
    "               'https://www.google.com/maps/d/u/0/viewer?mid=1qlSKPsGQbmsehtHsK-59DomxELh5gD4X&ll=45.54374400000001%2C-73.613808&z=13',\n",
    "               'https://www.google.com/maps/d/u/0/viewer?mid=1qlSKPsGQbmsehtHsK-59DomxELh5gD4X&ll=45.56322999999996%2C-73.62346800000002&z=13',\n",
    "               'https://www.google.com/maps/d/u/0/viewer?mid=1qlSKPsGQbmsehtHsK-59DomxELh5gD4X&ll=45.563062000000016%2C-73.61742999999998&z=13',\n",
    "               'https://www.google.com/maps/d/u/0/viewer?mid=1qlSKPsGQbmsehtHsK-59DomxELh5gD4X&ll=45.559727%2C-73.600007&z=13',\n",
    "               'https://www.google.com/maps/d/u/0/viewer?mid=1qlSKPsGQbmsehtHsK-59DomxELh5gD4X&ll=45.563032%2C-73.629919&z=13',\n",
    "               'https://www.google.com/maps/d/u/0/viewer?mid=1qlSKPsGQbmsehtHsK-59DomxELh5gD4X&ll=45.57387799999998%2C-73.621808&z=13',\n",
    "               'https://www.google.com/maps/d/u/0/viewer?mid=1qlSKPsGQbmsehtHsK-59DomxELh5gD4X&ll=45.568360999999996%2C-73.63616400000001&z=13',\n",
    "               'https://www.google.com/maps/d/u/0/viewer?mid=1qlSKPsGQbmsehtHsK-59DomxELh5gD4X&ll=45.567944000000026%2C-73.636894&z=13',\n",
    "               'https://www.google.com/maps/d/u/0/viewer?mid=1qlSKPsGQbmsehtHsK-59DomxELh5gD4X&ll=45.56788399999999%2C-73.63646500000002&z=13',\n",
    "               'https://www.google.com/maps/d/u/0/viewer?mid=1qlSKPsGQbmsehtHsK-59DomxELh5gD4X&ll=45.577594999999995%2C-73.610408&z=13',\n",
    "               'https://www.google.com/maps/d/u/0/viewer?mid=1qlSKPsGQbmsehtHsK-59DomxELh5gD4X&ll=45.57050000000001%2C-73.614234&z=13',\n",
    "               'https://www.google.com/maps/d/u/0/viewer?mid=1qlSKPsGQbmsehtHsK-59DomxELh5gD4X&ll=45.57808899999999%2C-73.613815&z=13',\n",
    "               'https://www.google.com/maps/d/u/0/viewer?mid=1qlSKPsGQbmsehtHsK-59DomxELh5gD4X&ll=45.577462000000004%2C-73.60989&z=13'\n",
    "              ]"
   ]
  },
  {
   "cell_type": "code",
   "execution_count": 74,
   "id": "24447c1e",
   "metadata": {},
   "outputs": [],
   "source": [
    "for i in urls_mylene:\n",
    "    lat_arr = []\n",
    "    lat_arr.append(getll(i)['lat'])\n",
    "    "
   ]
  },
  {
   "cell_type": "code",
   "execution_count": null,
   "id": "941b737a",
   "metadata": {},
   "outputs": [],
   "source": []
  },
  {
   "cell_type": "code",
   "execution_count": 75,
   "id": "cf027714",
   "metadata": {},
   "outputs": [
    {
     "data": {
      "text/plain": [
       "['-73.63287300000002',\n",
       " '-73.597534',\n",
       " '-73.63539700000001',\n",
       " '-73.60729399999998',\n",
       " '-73.609994',\n",
       " '-73.60965600000002',\n",
       " '-73.613808',\n",
       " '-73.62346800000002',\n",
       " '-73.61742999999998',\n",
       " '-73.600007',\n",
       " '-73.629919',\n",
       " '-73.621808',\n",
       " '-73.63616400000001',\n",
       " '-73.636894',\n",
       " '-73.63646500000002',\n",
       " '-73.610408',\n",
       " '-73.614234',\n",
       " '-73.613815',\n",
       " '-73.60989']"
      ]
     },
     "execution_count": 75,
     "metadata": {},
     "output_type": "execute_result"
    }
   ],
   "source": [
    "lat_arr"
   ]
  },
  {
   "cell_type": "code",
   "execution_count": 57,
   "id": "f0e1bd7f",
   "metadata": {},
   "outputs": [],
   "source": [
    "test = getll(urls_mylene[0])['lng']"
   ]
  },
  {
   "cell_type": "code",
   "execution_count": 58,
   "id": "27daf13c",
   "metadata": {},
   "outputs": [
    {
     "data": {
      "text/plain": [
       "'45.57087299999998'"
      ]
     },
     "execution_count": 58,
     "metadata": {},
     "output_type": "execute_result"
    }
   ],
   "source": [
    "test"
   ]
  },
  {
   "cell_type": "code",
   "execution_count": null,
   "id": "171c925c",
   "metadata": {},
   "outputs": [],
   "source": []
  }
 ],
 "metadata": {
  "kernelspec": {
   "display_name": "Python 3 (ipykernel)",
   "language": "python",
   "name": "python3"
  },
  "language_info": {
   "codemirror_mode": {
    "name": "ipython",
    "version": 3
   },
   "file_extension": ".py",
   "mimetype": "text/x-python",
   "name": "python",
   "nbconvert_exporter": "python",
   "pygments_lexer": "ipython3",
   "version": "3.9.7"
  }
 },
 "nbformat": 4,
 "nbformat_minor": 5
}
