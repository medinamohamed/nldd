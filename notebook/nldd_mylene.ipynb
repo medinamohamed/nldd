{
 "cells": [
  {
   "cell_type": "code",
   "execution_count": 1,
   "id": "360e848e",
   "metadata": {},
   "outputs": [],
   "source": [
    "import pandas as pd\n",
    "import math"
   ]
  },
  {
   "cell_type": "code",
   "execution_count": 10,
   "id": "729cd6f5",
   "metadata": {},
   "outputs": [],
   "source": [
    "df = pd.read_table('noslignesdedesirs_mylene.tsv')"
   ]
  },
  {
   "cell_type": "code",
   "execution_count": 11,
   "id": "4e38e8d9",
   "metadata": {},
   "outputs": [],
   "source": [
    "radius = 6371"
   ]
  },
  {
   "cell_type": "code",
   "execution_count": 15,
   "id": "9ae53730",
   "metadata": {},
   "outputs": [],
   "source": [
    "class referencePoint:\n",
    "    def __init__(self, scrX, scrY, lat, lng):\n",
    "        self.scrX = scrX\n",
    "        self.scrY = scrY\n",
    "        self.lat = lat\n",
    "        self.lng = lng\n",
    "\n",
    "\n",
    "# Calculate global X and Y for top-left reference point        \n",
    "p0 = referencePoint(0, 0, 45.590231380357075, -73.68553872266351)\n",
    "# Calculate global X and Y for bottom-right reference point\n",
    "p1 = referencePoint(2244, 2060, 45.55443164693175, -73.59927931059248)"
   ]
  },
  {
   "cell_type": "code",
   "execution_count": 12,
   "id": "4b048bc0",
   "metadata": {},
   "outputs": [],
   "source": [
    "# This function converts lat and lng coordinates to GLOBAL X and Y positions\n",
    "def latlngToGlobalXY(lat, lng):\n",
    "     # Calculates x based on cos of average of the latitudes\n",
    "    x = radius*lng*math.cos((p0.lat + p1.lat)/2)\n",
    "    # Calculates y based on latitude\n",
    "    y = radius*lat\n",
    "    return {'x': x, 'y': y}\n"
   ]
  },
  {
   "cell_type": "code",
   "execution_count": 22,
   "id": "87a70e11",
   "metadata": {},
   "outputs": [],
   "source": [
    "all_pos = latlngToGlobalXY(df[\"latitude\"],df[\"longitude\"])\n"
   ]
  },
  {
   "cell_type": "code",
   "execution_count": 23,
   "id": "207dbd3a",
   "metadata": {},
   "outputs": [],
   "source": [
    "global_x =all_pos['x'].to_numpy()\n",
    "global_y =all_pos['y'].to_numpy()"
   ]
  },
  {
   "cell_type": "code",
   "execution_count": 24,
   "id": "21e9b9b7",
   "metadata": {},
   "outputs": [],
   "source": [
    "df['global_x'] = global_x\n",
    "df['global_y'] = global_y"
   ]
  },
  {
   "cell_type": "code",
   "execution_count": 25,
   "id": "dc1faa0f",
   "metadata": {},
   "outputs": [
    {
     "data": {
      "text/html": [
       "<div>\n",
       "<style scoped>\n",
       "    .dataframe tbody tr th:only-of-type {\n",
       "        vertical-align: middle;\n",
       "    }\n",
       "\n",
       "    .dataframe tbody tr th {\n",
       "        vertical-align: top;\n",
       "    }\n",
       "\n",
       "    .dataframe thead th {\n",
       "        text-align: right;\n",
       "    }\n",
       "</style>\n",
       "<table border=\"1\" class=\"dataframe\">\n",
       "  <thead>\n",
       "    <tr style=\"text-align: right;\">\n",
       "      <th></th>\n",
       "      <th>Unnamed: 0</th>\n",
       "      <th>latitude</th>\n",
       "      <th>longitude</th>\n",
       "      <th>global_x</th>\n",
       "      <th>global_y</th>\n",
       "    </tr>\n",
       "  </thead>\n",
       "  <tbody>\n",
       "    <tr>\n",
       "      <th>0</th>\n",
       "      <td>0</td>\n",
       "      <td>45.570873</td>\n",
       "      <td>-73.632873</td>\n",
       "      <td>9024.295512</td>\n",
       "      <td>290332.031883</td>\n",
       "    </tr>\n",
       "    <tr>\n",
       "      <th>1</th>\n",
       "      <td>1</td>\n",
       "      <td>45.586626</td>\n",
       "      <td>-73.597534</td>\n",
       "      <td>9019.964436</td>\n",
       "      <td>290432.394246</td>\n",
       "    </tr>\n",
       "    <tr>\n",
       "      <th>2</th>\n",
       "      <td>2</td>\n",
       "      <td>45.569048</td>\n",
       "      <td>-73.635397</td>\n",
       "      <td>9024.604848</td>\n",
       "      <td>290320.404808</td>\n",
       "    </tr>\n",
       "    <tr>\n",
       "      <th>3</th>\n",
       "      <td>3</td>\n",
       "      <td>45.565422</td>\n",
       "      <td>-73.607294</td>\n",
       "      <td>9021.160602</td>\n",
       "      <td>290297.303562</td>\n",
       "    </tr>\n",
       "    <tr>\n",
       "      <th>4</th>\n",
       "      <td>4</td>\n",
       "      <td>45.577656</td>\n",
       "      <td>-73.609994</td>\n",
       "      <td>9021.491508</td>\n",
       "      <td>290375.246376</td>\n",
       "    </tr>\n",
       "    <tr>\n",
       "      <th>5</th>\n",
       "      <td>5</td>\n",
       "      <td>45.574599</td>\n",
       "      <td>-73.609656</td>\n",
       "      <td>9021.450084</td>\n",
       "      <td>290355.770229</td>\n",
       "    </tr>\n",
       "    <tr>\n",
       "      <th>6</th>\n",
       "      <td>6</td>\n",
       "      <td>45.543744</td>\n",
       "      <td>-73.613808</td>\n",
       "      <td>9021.958944</td>\n",
       "      <td>290159.193024</td>\n",
       "    </tr>\n",
       "    <tr>\n",
       "      <th>7</th>\n",
       "      <td>7</td>\n",
       "      <td>45.563230</td>\n",
       "      <td>-73.623468</td>\n",
       "      <td>9023.142854</td>\n",
       "      <td>290283.338330</td>\n",
       "    </tr>\n",
       "    <tr>\n",
       "      <th>8</th>\n",
       "      <td>8</td>\n",
       "      <td>45.563062</td>\n",
       "      <td>-73.617430</td>\n",
       "      <td>9022.402849</td>\n",
       "      <td>290282.268002</td>\n",
       "    </tr>\n",
       "    <tr>\n",
       "      <th>9</th>\n",
       "      <td>9</td>\n",
       "      <td>45.559727</td>\n",
       "      <td>-73.600007</td>\n",
       "      <td>9020.267522</td>\n",
       "      <td>290261.020717</td>\n",
       "    </tr>\n",
       "    <tr>\n",
       "      <th>10</th>\n",
       "      <td>10</td>\n",
       "      <td>45.563032</td>\n",
       "      <td>-73.629919</td>\n",
       "      <td>9023.933476</td>\n",
       "      <td>290282.076872</td>\n",
       "    </tr>\n",
       "    <tr>\n",
       "      <th>11</th>\n",
       "      <td>11</td>\n",
       "      <td>45.573878</td>\n",
       "      <td>-73.621808</td>\n",
       "      <td>9022.939408</td>\n",
       "      <td>290351.176738</td>\n",
       "    </tr>\n",
       "    <tr>\n",
       "      <th>12</th>\n",
       "      <td>12</td>\n",
       "      <td>45.568361</td>\n",
       "      <td>-73.636164</td>\n",
       "      <td>9024.698850</td>\n",
       "      <td>290316.027931</td>\n",
       "    </tr>\n",
       "    <tr>\n",
       "      <th>13</th>\n",
       "      <td>13</td>\n",
       "      <td>45.567944</td>\n",
       "      <td>-73.636894</td>\n",
       "      <td>9024.788318</td>\n",
       "      <td>290313.371224</td>\n",
       "    </tr>\n",
       "    <tr>\n",
       "      <th>14</th>\n",
       "      <td>14</td>\n",
       "      <td>45.567884</td>\n",
       "      <td>-73.636465</td>\n",
       "      <td>9024.735740</td>\n",
       "      <td>290312.988964</td>\n",
       "    </tr>\n",
       "    <tr>\n",
       "      <th>15</th>\n",
       "      <td>15</td>\n",
       "      <td>45.577595</td>\n",
       "      <td>-73.610408</td>\n",
       "      <td>9021.542247</td>\n",
       "      <td>290374.857745</td>\n",
       "    </tr>\n",
       "    <tr>\n",
       "      <th>16</th>\n",
       "      <td>16</td>\n",
       "      <td>45.570500</td>\n",
       "      <td>-73.614234</td>\n",
       "      <td>9022.011154</td>\n",
       "      <td>290329.655500</td>\n",
       "    </tr>\n",
       "    <tr>\n",
       "      <th>17</th>\n",
       "      <td>17</td>\n",
       "      <td>45.578089</td>\n",
       "      <td>-73.613815</td>\n",
       "      <td>9021.959802</td>\n",
       "      <td>290378.005019</td>\n",
       "    </tr>\n",
       "    <tr>\n",
       "      <th>18</th>\n",
       "      <td>18</td>\n",
       "      <td>45.577462</td>\n",
       "      <td>-73.609890</td>\n",
       "      <td>9021.478762</td>\n",
       "      <td>290374.010402</td>\n",
       "    </tr>\n",
       "  </tbody>\n",
       "</table>\n",
       "</div>"
      ],
      "text/plain": [
       "    Unnamed: 0   latitude  longitude     global_x       global_y\n",
       "0            0  45.570873 -73.632873  9024.295512  290332.031883\n",
       "1            1  45.586626 -73.597534  9019.964436  290432.394246\n",
       "2            2  45.569048 -73.635397  9024.604848  290320.404808\n",
       "3            3  45.565422 -73.607294  9021.160602  290297.303562\n",
       "4            4  45.577656 -73.609994  9021.491508  290375.246376\n",
       "5            5  45.574599 -73.609656  9021.450084  290355.770229\n",
       "6            6  45.543744 -73.613808  9021.958944  290159.193024\n",
       "7            7  45.563230 -73.623468  9023.142854  290283.338330\n",
       "8            8  45.563062 -73.617430  9022.402849  290282.268002\n",
       "9            9  45.559727 -73.600007  9020.267522  290261.020717\n",
       "10          10  45.563032 -73.629919  9023.933476  290282.076872\n",
       "11          11  45.573878 -73.621808  9022.939408  290351.176738\n",
       "12          12  45.568361 -73.636164  9024.698850  290316.027931\n",
       "13          13  45.567944 -73.636894  9024.788318  290313.371224\n",
       "14          14  45.567884 -73.636465  9024.735740  290312.988964\n",
       "15          15  45.577595 -73.610408  9021.542247  290374.857745\n",
       "16          16  45.570500 -73.614234  9022.011154  290329.655500\n",
       "17          17  45.578089 -73.613815  9021.959802  290378.005019\n",
       "18          18  45.577462 -73.609890  9021.478762  290374.010402"
      ]
     },
     "execution_count": 25,
     "metadata": {},
     "output_type": "execute_result"
    }
   ],
   "source": [
    "df"
   ]
  },
  {
   "cell_type": "code",
   "execution_count": 26,
   "id": "3a9beac8",
   "metadata": {},
   "outputs": [
    {
     "data": {
      "text/plain": [
       "<AxesSubplot:xlabel='global_x', ylabel='global_y'>"
      ]
     },
     "execution_count": 26,
     "metadata": {},
     "output_type": "execute_result"
    },
    {
     "data": {
      "image/png": "[encoded data removed]",
      "text/plain": [
       "<Figure size 432x288 with 1 Axes>"
      ]
     },
     "metadata": {
      "needs_background": "light"
     },
     "output_type": "display_data"
    }
   ],
   "source": [
    "df.plot.scatter(x = 'global_x', y = 'global_y')\n"
   ]
  },
  {
   "cell_type": "code",
   "execution_count": null,
   "id": "8447802d",
   "metadata": {},
   "outputs": [],
   "source": []
  }
 ],
 "metadata": {
  "kernelspec": {
   "display_name": "Python 3 (ipykernel)",
   "language": "python",
   "name": "python3"
  },
  "language_info": {
   "codemirror_mode": {
    "name": "ipython",
    "version": 3
   },
   "file_extension": ".py",
   "mimetype": "text/x-python",
   "name": "python",
   "nbconvert_exporter": "python",
   "pygments_lexer": "ipython3",
   "version": "3.9.7"
  }
 },
 "nbformat": 4,
 "nbformat_minor": 5
}
