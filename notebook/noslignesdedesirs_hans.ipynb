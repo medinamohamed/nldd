{
 "cells": [
  {
   "cell_type": "code",
   "execution_count": 25,
   "id": "2af8e50b",
   "metadata": {},
   "outputs": [],
   "source": [
    "import pandas as pd\n",
    "import math"
   ]
  },
  {
   "cell_type": "code",
   "execution_count": 41,
   "id": "0c9d77b1",
   "metadata": {},
   "outputs": [],
   "source": [
    "donnee = pd.read_csv('noslignesdedesirs.csv')"
   ]
  },
  {
   "cell_type": "code",
   "execution_count": 20,
   "id": "92f59dee",
   "metadata": {},
   "outputs": [],
   "source": [
    "donnee\n",
    "radius = 6371"
   ]
  },
  {
   "cell_type": "code",
   "execution_count": 42,
   "id": "d0bd7d84",
   "metadata": {},
   "outputs": [
    {
     "data": {
      "text/html": [
       "<div>\n",
       "<style scoped>\n",
       "    .dataframe tbody tr th:only-of-type {\n",
       "        vertical-align: middle;\n",
       "    }\n",
       "\n",
       "    .dataframe tbody tr th {\n",
       "        vertical-align: top;\n",
       "    }\n",
       "\n",
       "    .dataframe thead th {\n",
       "        text-align: right;\n",
       "    }\n",
       "</style>\n",
       "<table border=\"1\" class=\"dataframe\">\n",
       "  <thead>\n",
       "    <tr style=\"text-align: right;\">\n",
       "      <th></th>\n",
       "      <th>description</th>\n",
       "      <th>latitude</th>\n",
       "      <th>longitude</th>\n",
       "    </tr>\n",
       "  </thead>\n",
       "  <tbody>\n",
       "    <tr>\n",
       "      <th>0</th>\n",
       "      <td>Classes de Hans</td>\n",
       "      <td>45.539105</td>\n",
       "      <td>-73.633135</td>\n",
       "    </tr>\n",
       "    <tr>\n",
       "      <th>1</th>\n",
       "      <td>Kevin</td>\n",
       "      <td>45.535550</td>\n",
       "      <td>-73.625195</td>\n",
       "    </tr>\n",
       "    <tr>\n",
       "      <th>2</th>\n",
       "      <td>Tamveer</td>\n",
       "      <td>45.539435</td>\n",
       "      <td>-73.633449</td>\n",
       "    </tr>\n",
       "    <tr>\n",
       "      <th>3</th>\n",
       "      <td>Kevin</td>\n",
       "      <td>45.539395</td>\n",
       "      <td>-73.632645</td>\n",
       "    </tr>\n",
       "    <tr>\n",
       "      <th>4</th>\n",
       "      <td>Riley</td>\n",
       "      <td>45.538959</td>\n",
       "      <td>-73.631368</td>\n",
       "    </tr>\n",
       "    <tr>\n",
       "      <th>5</th>\n",
       "      <td>Edison</td>\n",
       "      <td>45.539305</td>\n",
       "      <td>-73.631084</td>\n",
       "    </tr>\n",
       "    <tr>\n",
       "      <th>6</th>\n",
       "      <td>Dylan</td>\n",
       "      <td>45.537801</td>\n",
       "      <td>-73.631956</td>\n",
       "    </tr>\n",
       "  </tbody>\n",
       "</table>\n",
       "</div>"
      ],
      "text/plain": [
       "       description   latitude  longitude\n",
       "0  Classes de Hans  45.539105 -73.633135\n",
       "1            Kevin  45.535550 -73.625195\n",
       "2          Tamveer  45.539435 -73.633449\n",
       "3            Kevin  45.539395 -73.632645\n",
       "4            Riley  45.538959 -73.631368\n",
       "5           Edison  45.539305 -73.631084\n",
       "6            Dylan  45.537801 -73.631956"
      ]
     },
     "execution_count": 42,
     "metadata": {},
     "output_type": "execute_result"
    }
   ],
   "source": [
    "donnee"
   ]
  },
  {
   "cell_type": "code",
   "execution_count": 26,
   "id": "128e0160",
   "metadata": {},
   "outputs": [],
   "source": [
    "class referencePoint:\n",
    "    def __init__(self, scrX, scrY, lat, lng):\n",
    "        self.scrX = scrX\n",
    "        self.scrY = scrY\n",
    "        self.lat = lat\n",
    "        self.lng = lng\n",
    "\n",
    "\n",
    "# Calculate global X and Y for top-left reference point        \n",
    "p0 = referencePoint(0, 0, 45.590231380357075, -73.68553872266351)\n",
    "# Calculate global X and Y for bottom-right reference point\n",
    "p1 = referencePoint(2244, 2060, 45.55443164693175, -73.59927931059248)"
   ]
  },
  {
   "cell_type": "code",
   "execution_count": 27,
   "id": "70ce175a",
   "metadata": {},
   "outputs": [],
   "source": [
    "# This function converts lat and lng coordinates to GLOBAL X and Y positions\n",
    "def latlngToGlobalXY(lat, lng):\n",
    "     # Calculates x based on cos of average of the latitudes\n",
    "    x = radius*lng*math.cos((p0.lat + p1.lat)/2)\n",
    "    # Calculates y based on latitude\n",
    "    y = radius*lat\n",
    "    return {'x': x, 'y': y}\n"
   ]
  },
  {
   "cell_type": "code",
   "execution_count": 40,
   "id": "46f87ee8",
   "metadata": {},
   "outputs": [
    {
     "data": {
      "text/plain": [
       "{'x': 298419.77102574945, 'y': 290129.637955}"
      ]
     },
     "execution_count": 40,
     "metadata": {},
     "output_type": "execute_result"
    }
   ],
   "source": [
    "pos1 = latlngToGlobalXY(45.539105, -73.633135)\n",
    "pos1"
   ]
  },
  {
   "cell_type": "code",
   "execution_count": 44,
   "id": "824318ce",
   "metadata": {},
   "outputs": [
    {
     "data": {
      "text/plain": [
       "{'x': 298387.5918582871, 'y': 290106.98905000003}"
      ]
     },
     "execution_count": 44,
     "metadata": {},
     "output_type": "execute_result"
    }
   ],
   "source": [
    "pos2 = latlngToGlobalXY(45.535550, -73.625195)\n",
    "pos2"
   ]
  },
  {
   "cell_type": "code",
   "execution_count": 28,
   "id": "15088823",
   "metadata": {},
   "outputs": [],
   "source": [
    "# This function converts lat and lng coordinates to SCREEN X and Y positions\n",
    "#https://stackoverflow.com/questions/16266809/convert-from-latitude-longitude-to-x-y\n",
    "def latlngToScreenXY(lat, lng):\n",
    "    # Calculate global X and Y for projection point\n",
    "    pos = latlngToGlobalXY(lat, lng)\n",
    "    # Calculate the percentage of Global X position in relation to total global width\n",
    "    perX = ((pos['x']-p0.pos['x'])/(p1.pos['x'] - p0.pos['x']))\n",
    "    # Calculate the percentage of Global Y position in relation to total global height\n",
    "    perY = ((pos['y']-p0.pos['y'])/(p1.pos['y'] - p0.pos['y']))\n",
    "\n",
    "    # Returns the screen position based on reference points\n",
    "    return {\n",
    "        'x': p0.scrX + (p1.scrX - p0.scrX)*perX,\n",
    "        'y': p0.scrY + (p1.scrY - p0.scrY)*perY\n",
    "    }"
   ]
  },
  {
   "cell_type": "code",
   "execution_count": 38,
   "id": "e03dbcc0",
   "metadata": {},
   "outputs": [
    {
     "data": {
      "image/png": "[encoded data removed]",
      "text/plain": [
       "<Figure size 504x252 with 1 Axes>"
      ]
     },
     "metadata": {
      "needs_background": "light"
     },
     "output_type": "display_data"
    }
   ],
   "source": [
    "from matplotlib import pyplot as plt\n",
    "plt.rcParams[\"figure.figsize\"] = [7.00, 3.50]\n",
    "plt.rcParams[\"figure.autolayout\"] = True\n",
    "x = [9024.327622329542]\n",
    "y = [290129.637955]\n",
    "plt.xlim(0, 10000)\n",
    "plt.ylim(0, 400000)\n",
    "plt.grid()\n",
    "plt.plot(x, y, marker=\"o\", markersize=20, markeredgecolor=\"red\", markerfacecolor=\"green\")\n",
    "plt.show()"
   ]
  },
  {
   "cell_type": "code",
   "execution_count": 45,
   "id": "7a991662",
   "metadata": {},
   "outputs": [
    {
     "data": {
      "text/html": [
       "<div>\n",
       "<style scoped>\n",
       "    .dataframe tbody tr th:only-of-type {\n",
       "        vertical-align: middle;\n",
       "    }\n",
       "\n",
       "    .dataframe tbody tr th {\n",
       "        vertical-align: top;\n",
       "    }\n",
       "\n",
       "    .dataframe thead th {\n",
       "        text-align: right;\n",
       "    }\n",
       "</style>\n",
       "<table border=\"1\" class=\"dataframe\">\n",
       "  <thead>\n",
       "    <tr style=\"text-align: right;\">\n",
       "      <th></th>\n",
       "      <th>description</th>\n",
       "      <th>latitude</th>\n",
       "      <th>longitude</th>\n",
       "    </tr>\n",
       "  </thead>\n",
       "  <tbody>\n",
       "    <tr>\n",
       "      <th>0</th>\n",
       "      <td>Classes de Hans</td>\n",
       "      <td>45.539105</td>\n",
       "      <td>-73.633135</td>\n",
       "    </tr>\n",
       "    <tr>\n",
       "      <th>1</th>\n",
       "      <td>Kevin</td>\n",
       "      <td>45.535550</td>\n",
       "      <td>-73.625195</td>\n",
       "    </tr>\n",
       "    <tr>\n",
       "      <th>2</th>\n",
       "      <td>Tamveer</td>\n",
       "      <td>45.539435</td>\n",
       "      <td>-73.633449</td>\n",
       "    </tr>\n",
       "    <tr>\n",
       "      <th>3</th>\n",
       "      <td>Kevin</td>\n",
       "      <td>45.539395</td>\n",
       "      <td>-73.632645</td>\n",
       "    </tr>\n",
       "    <tr>\n",
       "      <th>4</th>\n",
       "      <td>Riley</td>\n",
       "      <td>45.538959</td>\n",
       "      <td>-73.631368</td>\n",
       "    </tr>\n",
       "    <tr>\n",
       "      <th>5</th>\n",
       "      <td>Edison</td>\n",
       "      <td>45.539305</td>\n",
       "      <td>-73.631084</td>\n",
       "    </tr>\n",
       "    <tr>\n",
       "      <th>6</th>\n",
       "      <td>Dylan</td>\n",
       "      <td>45.537801</td>\n",
       "      <td>-73.631956</td>\n",
       "    </tr>\n",
       "  </tbody>\n",
       "</table>\n",
       "</div>"
      ],
      "text/plain": [
       "       description   latitude  longitude\n",
       "0  Classes de Hans  45.539105 -73.633135\n",
       "1            Kevin  45.535550 -73.625195\n",
       "2          Tamveer  45.539435 -73.633449\n",
       "3            Kevin  45.539395 -73.632645\n",
       "4            Riley  45.538959 -73.631368\n",
       "5           Edison  45.539305 -73.631084\n",
       "6            Dylan  45.537801 -73.631956"
      ]
     },
     "execution_count": 45,
     "metadata": {},
     "output_type": "execute_result"
    }
   ],
   "source": [
    "donnee"
   ]
  },
  {
   "cell_type": "code",
   "execution_count": 77,
   "id": "9622991a",
   "metadata": {},
   "outputs": [],
   "source": [
    "pos2 = latlngToGlobalXY(45.535550, -73.625195)\n",
    "donnee[\"global_x\"],donnee[\"global_y\"] = latlngToGlobalXY(donnee[\"latitude\"],donnee[\"longitude\"]) # not this oneee"
   ]
  },
  {
   "cell_type": "code",
   "execution_count": 81,
   "id": "4b5cb7ed",
   "metadata": {},
   "outputs": [],
   "source": [
    "pos2 = latlngToGlobalXY(donnee[\"latitude\"],donnee[\"longitude\"])\n"
   ]
  },
  {
   "cell_type": "code",
   "execution_count": 86,
   "id": "32d5d73c",
   "metadata": {},
   "outputs": [
    {
     "data": {
      "text/plain": [
       "298419.77102574945"
      ]
     },
     "execution_count": 86,
     "metadata": {},
     "output_type": "execute_result"
    }
   ],
   "source": [
    "new column = pos2['x'][0]"
   ]
  },
  {
   "cell_type": "code",
   "execution_count": 97,
   "id": "b0e7ba3a",
   "metadata": {},
   "outputs": [],
   "source": [
    "data_x =pos2['x'].to_numpy()\n",
    "data_y =pos2['y'].to_numpy()"
   ]
  },
  {
   "cell_type": "code",
   "execution_count": 98,
   "id": "6d708fe4",
   "metadata": {},
   "outputs": [],
   "source": [
    "donnee['global_x'] = data_x\n",
    "donnee['global_y'] = data_y"
   ]
  },
  {
   "cell_type": "code",
   "execution_count": 99,
   "id": "e9db3bea",
   "metadata": {},
   "outputs": [
    {
     "data": {
      "text/html": [
       "<div>\n",
       "<style scoped>\n",
       "    .dataframe tbody tr th:only-of-type {\n",
       "        vertical-align: middle;\n",
       "    }\n",
       "\n",
       "    .dataframe tbody tr th {\n",
       "        vertical-align: top;\n",
       "    }\n",
       "\n",
       "    .dataframe thead th {\n",
       "        text-align: right;\n",
       "    }\n",
       "</style>\n",
       "<table border=\"1\" class=\"dataframe\">\n",
       "  <thead>\n",
       "    <tr style=\"text-align: right;\">\n",
       "      <th></th>\n",
       "      <th>description</th>\n",
       "      <th>latitude</th>\n",
       "      <th>longitude</th>\n",
       "      <th>global_x</th>\n",
       "      <th>global_y</th>\n",
       "      <th>global_x_test</th>\n",
       "      <th>df_test</th>\n",
       "    </tr>\n",
       "  </thead>\n",
       "  <tbody>\n",
       "    <tr>\n",
       "      <th>0</th>\n",
       "      <td>Classes de Hans</td>\n",
       "      <td>45.539105</td>\n",
       "      <td>-73.633135</td>\n",
       "      <td>298419.771026</td>\n",
       "      <td>290129.637955</td>\n",
       "      <td>None</td>\n",
       "      <td>298419.771026</td>\n",
       "    </tr>\n",
       "    <tr>\n",
       "      <th>1</th>\n",
       "      <td>Kevin</td>\n",
       "      <td>45.535550</td>\n",
       "      <td>-73.625195</td>\n",
       "      <td>298387.591858</td>\n",
       "      <td>290106.989050</td>\n",
       "      <td>None</td>\n",
       "      <td>298387.591858</td>\n",
       "    </tr>\n",
       "    <tr>\n",
       "      <th>2</th>\n",
       "      <td>Tamveer</td>\n",
       "      <td>45.539435</td>\n",
       "      <td>-73.633449</td>\n",
       "      <td>298421.043602</td>\n",
       "      <td>290131.740385</td>\n",
       "      <td>None</td>\n",
       "      <td>298421.043602</td>\n",
       "    </tr>\n",
       "    <tr>\n",
       "      <th>3</th>\n",
       "      <td>Kevin</td>\n",
       "      <td>45.539395</td>\n",
       "      <td>-73.632645</td>\n",
       "      <td>298417.785158</td>\n",
       "      <td>290131.485545</td>\n",
       "      <td>None</td>\n",
       "      <td>298417.785158</td>\n",
       "    </tr>\n",
       "    <tr>\n",
       "      <th>4</th>\n",
       "      <td>Riley</td>\n",
       "      <td>45.538959</td>\n",
       "      <td>-73.631368</td>\n",
       "      <td>298412.609743</td>\n",
       "      <td>290128.707789</td>\n",
       "      <td>None</td>\n",
       "      <td>298412.609743</td>\n",
       "    </tr>\n",
       "    <tr>\n",
       "      <th>5</th>\n",
       "      <td>Edison</td>\n",
       "      <td>45.539305</td>\n",
       "      <td>-73.631084</td>\n",
       "      <td>298411.458750</td>\n",
       "      <td>290130.912155</td>\n",
       "      <td>None</td>\n",
       "      <td>298411.458750</td>\n",
       "    </tr>\n",
       "    <tr>\n",
       "      <th>6</th>\n",
       "      <td>Dylan</td>\n",
       "      <td>45.537801</td>\n",
       "      <td>-73.631956</td>\n",
       "      <td>298414.992784</td>\n",
       "      <td>290121.330171</td>\n",
       "      <td>None</td>\n",
       "      <td>298414.992784</td>\n",
       "    </tr>\n",
       "  </tbody>\n",
       "</table>\n",
       "</div>"
      ],
      "text/plain": [
       "       description   latitude  longitude       global_x       global_y  \\\n",
       "0  Classes de Hans  45.539105 -73.633135  298419.771026  290129.637955   \n",
       "1            Kevin  45.535550 -73.625195  298387.591858  290106.989050   \n",
       "2          Tamveer  45.539435 -73.633449  298421.043602  290131.740385   \n",
       "3            Kevin  45.539395 -73.632645  298417.785158  290131.485545   \n",
       "4            Riley  45.538959 -73.631368  298412.609743  290128.707789   \n",
       "5           Edison  45.539305 -73.631084  298411.458750  290130.912155   \n",
       "6            Dylan  45.537801 -73.631956  298414.992784  290121.330171   \n",
       "\n",
       "  global_x_test        df_test  \n",
       "0          None  298419.771026  \n",
       "1          None  298387.591858  \n",
       "2          None  298421.043602  \n",
       "3          None  298417.785158  \n",
       "4          None  298412.609743  \n",
       "5          None  298411.458750  \n",
       "6          None  298414.992784  "
      ]
     },
     "execution_count": 99,
     "metadata": {},
     "output_type": "execute_result"
    }
   ],
   "source": [
    "donnee"
   ]
  },
  {
   "cell_type": "code",
   "execution_count": 68,
   "id": "ef862f57",
   "metadata": {},
   "outputs": [],
   "source": [
    "pos_test = latlngToGlobalXY(donnee[\"latitude\"][0],donnee[\"longitude\"][0])"
   ]
  },
  {
   "cell_type": "code",
   "execution_count": 70,
   "id": "90834478",
   "metadata": {},
   "outputs": [
    {
     "data": {
      "text/plain": [
       "298419.77102574945"
      ]
     },
     "execution_count": 70,
     "metadata": {},
     "output_type": "execute_result"
    }
   ],
   "source": [
    "pos_test['x']"
   ]
  },
  {
   "cell_type": "code",
   "execution_count": 100,
   "id": "90067cb3",
   "metadata": {},
   "outputs": [
    {
     "data": {
      "text/html": [
       "<div>\n",
       "<style scoped>\n",
       "    .dataframe tbody tr th:only-of-type {\n",
       "        vertical-align: middle;\n",
       "    }\n",
       "\n",
       "    .dataframe tbody tr th {\n",
       "        vertical-align: top;\n",
       "    }\n",
       "\n",
       "    .dataframe thead th {\n",
       "        text-align: right;\n",
       "    }\n",
       "</style>\n",
       "<table border=\"1\" class=\"dataframe\">\n",
       "  <thead>\n",
       "    <tr style=\"text-align: right;\">\n",
       "      <th></th>\n",
       "      <th>description</th>\n",
       "      <th>latitude</th>\n",
       "      <th>longitude</th>\n",
       "      <th>global_x</th>\n",
       "      <th>global_y</th>\n",
       "    </tr>\n",
       "  </thead>\n",
       "  <tbody>\n",
       "    <tr>\n",
       "      <th>0</th>\n",
       "      <td>Classes de Hans</td>\n",
       "      <td>45.539105</td>\n",
       "      <td>-73.633135</td>\n",
       "      <td>298419.771026</td>\n",
       "      <td>290129.637955</td>\n",
       "    </tr>\n",
       "    <tr>\n",
       "      <th>1</th>\n",
       "      <td>Kevin</td>\n",
       "      <td>45.535550</td>\n",
       "      <td>-73.625195</td>\n",
       "      <td>298387.591858</td>\n",
       "      <td>290106.989050</td>\n",
       "    </tr>\n",
       "    <tr>\n",
       "      <th>2</th>\n",
       "      <td>Tamveer</td>\n",
       "      <td>45.539435</td>\n",
       "      <td>-73.633449</td>\n",
       "      <td>298421.043602</td>\n",
       "      <td>290131.740385</td>\n",
       "    </tr>\n",
       "    <tr>\n",
       "      <th>3</th>\n",
       "      <td>Kevin</td>\n",
       "      <td>45.539395</td>\n",
       "      <td>-73.632645</td>\n",
       "      <td>298417.785158</td>\n",
       "      <td>290131.485545</td>\n",
       "    </tr>\n",
       "    <tr>\n",
       "      <th>4</th>\n",
       "      <td>Riley</td>\n",
       "      <td>45.538959</td>\n",
       "      <td>-73.631368</td>\n",
       "      <td>298412.609743</td>\n",
       "      <td>290128.707789</td>\n",
       "    </tr>\n",
       "    <tr>\n",
       "      <th>5</th>\n",
       "      <td>Edison</td>\n",
       "      <td>45.539305</td>\n",
       "      <td>-73.631084</td>\n",
       "      <td>298411.458750</td>\n",
       "      <td>290130.912155</td>\n",
       "    </tr>\n",
       "    <tr>\n",
       "      <th>6</th>\n",
       "      <td>Dylan</td>\n",
       "      <td>45.537801</td>\n",
       "      <td>-73.631956</td>\n",
       "      <td>298414.992784</td>\n",
       "      <td>290121.330171</td>\n",
       "    </tr>\n",
       "  </tbody>\n",
       "</table>\n",
       "</div>"
      ],
      "text/plain": [
       "       description   latitude  longitude       global_x       global_y\n",
       "0  Classes de Hans  45.539105 -73.633135  298419.771026  290129.637955\n",
       "1            Kevin  45.535550 -73.625195  298387.591858  290106.989050\n",
       "2          Tamveer  45.539435 -73.633449  298421.043602  290131.740385\n",
       "3            Kevin  45.539395 -73.632645  298417.785158  290131.485545\n",
       "4            Riley  45.538959 -73.631368  298412.609743  290128.707789\n",
       "5           Edison  45.539305 -73.631084  298411.458750  290130.912155\n",
       "6            Dylan  45.537801 -73.631956  298414.992784  290121.330171"
      ]
     },
     "execution_count": 100,
     "metadata": {},
     "output_type": "execute_result"
    }
   ],
   "source": [
    "donnee.drop(columns=['global_x_test','df_test'])"
   ]
  },
  {
   "cell_type": "code",
   "execution_count": 102,
   "id": "bf336fa6",
   "metadata": {},
   "outputs": [
    {
     "data": {
      "text/plain": [
       "<AxesSubplot:xlabel='global_x', ylabel='global_y'>"
      ]
     },
     "execution_count": 102,
     "metadata": {},
     "output_type": "execute_result"
    },
    {
     "data": {
      "image/png": "[encoded data removed]",
      "text/plain": [
       "<Figure size 504x252 with 1 Axes>"
      ]
     },
     "metadata": {
      "needs_background": "light"
     },
     "output_type": "display_data"
    }
   ],
   "source": [
    "donnee.plot.scatter(x = 'global_x', y = 'global_y')\n"
   ]
  },
  {
   "cell_type": "code",
   "execution_count": null,
   "id": "1956024c",
   "metadata": {},
   "outputs": [],
   "source": []
  }
 ],
 "metadata": {
  "kernelspec": {
   "display_name": "Python 3 (ipykernel)",
   "language": "python",
   "name": "python3"
  },
  "language_info": {
   "codemirror_mode": {
    "name": "ipython",
    "version": 3
   },
   "file_extension": ".py",
   "mimetype": "text/x-python",
   "name": "python",
   "nbconvert_exporter": "python",
   "pygments_lexer": "ipython3",
   "version": "3.9.7"
  }
 },
 "nbformat": 4,
 "nbformat_minor": 5
}
