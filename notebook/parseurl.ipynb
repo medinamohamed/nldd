{
 "cells": [
  {
   "cell_type": "code",
   "execution_count": 1,
   "id": "c4e35fa6",
   "metadata": {},
   "outputs": [],
   "source": [
    "import requests\n",
    "import urllib.parse"
   ]
  },
  {
   "cell_type": "code",
   "execution_count": 2,
   "id": "1ae2838b",
   "metadata": {},
   "outputs": [],
   "source": [
    "url = 'https://www.google.com/maps/d/u/0/viewer?mid=1qlSKPsGQbmsehtHsK-59DomxELh5gD4X&ll=45.53559099999999%2C-73.619412&z=13'"
   ]
  },
  {
   "cell_type": "code",
   "execution_count": 6,
   "id": "c3750c04",
   "metadata": {},
   "outputs": [
    {
     "data": {
      "text/plain": [
       "{'mid': ['1qlSKPsGQbmsehtHsK-59DomxELh5gD4X'],\n",
       " 'll': ['45.53559099999999,-73.619412'],\n",
       " 'z': ['13']}"
      ]
     },
     "execution_count": 6,
     "metadata": {},
     "output_type": "execute_result"
    }
   ],
   "source": [
    "from urllib.parse import urlsplit, parse_qs\n",
    "\n",
    "url = 'https://www.google.com/maps/d/u/0/viewer?mid=1qlSKPsGQbmsehtHsK-59DomxELh5gD4X&ll=45.53559099999999%2C-73.619412&z=13'\n",
    "query = urlsplit(url).query\n",
    "params = parse_qs(query)\n",
    "params"
   ]
  },
  {
   "cell_type": "code",
   "execution_count": 7,
   "id": "06dd93fa",
   "metadata": {},
   "outputs": [
    {
     "data": {
      "text/plain": [
       "{'mid': ['1qlSKPsGQbmsehtHsK-59DomxELh5gD4X'],\n",
       " 'll': ['45.58662600000001,-73.597534'],\n",
       " 'z': ['10']}"
      ]
     },
     "execution_count": 7,
     "metadata": {},
     "output_type": "execute_result"
    }
   ],
   "source": [
    "url = 'https://www.google.com/maps/d/u/0/viewer?mid=1qlSKPsGQbmsehtHsK-59DomxELh5gD4X&ll=45.58662600000001%2C-73.597534&z=10'\n",
    "query = urlsplit(url).query\n",
    "params = parse_qs(query)\n",
    "params"
   ]
  },
  {
   "cell_type": "code",
   "execution_count": 8,
   "id": "28113719",
   "metadata": {},
   "outputs": [
    {
     "data": {
      "text/plain": [
       "{'mid': ['1qlSKPsGQbmsehtHsK-59DomxELh5gD4X'],\n",
       " 'll': ['45.53555000000003,-73.625195'],\n",
       " 'z': ['10']}"
      ]
     },
     "execution_count": 8,
     "metadata": {},
     "output_type": "execute_result"
    }
   ],
   "source": [
    "url = 'https://www.google.com/maps/d/u/0/viewer?mid=1qlSKPsGQbmsehtHsK-59DomxELh5gD4X&ll=45.53555000000003%2C-73.625195&z=10'\n",
    "query = urlsplit(url).query\n",
    "params = parse_qs(query)\n",
    "params"
   ]
  },
  {
   "cell_type": "code",
   "execution_count": 26,
   "id": "c80c6e53",
   "metadata": {},
   "outputs": [],
   "source": [
    "str(params['ll'][0]).split(\",\")\n",
    "#params['ll'].split(\",\")\n",
    "ll = list(str(params['ll'][0]).split(\",\"))"
   ]
  },
  {
   "cell_type": "code",
   "execution_count": 31,
   "id": "50a80a3e",
   "metadata": {},
   "outputs": [
    {
     "data": {
      "text/plain": [
       "'-73.625195'"
      ]
     },
     "execution_count": 31,
     "metadata": {},
     "output_type": "execute_result"
    }
   ],
   "source": [
    "ll[1]\n"
   ]
  },
  {
   "cell_type": "code",
   "execution_count": 54,
   "id": "e33426d6",
   "metadata": {},
   "outputs": [],
   "source": [
    "def getll(url):\n",
    "    \n",
    "    query = urlsplit(url).query\n",
    "    params = parse_qs(query)\n",
    "    \n",
    "    lng = list(str(params['ll'][0]).split(\",\"))[0]\n",
    "    lat = list(str(params['ll'][0]).split(\",\"))[1]\n",
    "    \n",
    "    return {'lng': lng,'lat': lat}"
   ]
  },
  {
   "cell_type": "code",
   "execution_count": 55,
   "id": "d1e2b8bc",
   "metadata": {},
   "outputs": [
    {
     "data": {
      "text/plain": [
       "{'lng': '45.53555000000003', 'lat': '-73.625195'}"
      ]
     },
     "execution_count": 55,
     "metadata": {},
     "output_type": "execute_result"
    }
   ],
   "source": [
    "getll('https://www.google.com/maps/d/u/0/viewer?mid=1qlSKPsGQbmsehtHsK-59DomxELh5gD4X&ll=45.53555000000003%2C-73.625195&z=10')"
   ]
  },
  {
   "cell_type": "code",
   "execution_count": 40,
   "id": "3546b2a0",
   "metadata": {},
   "outputs": [],
   "source": [
    "urls_mylene = ['https://www.google.com/maps/d/u/0/viewer?mid=1qlSKPsGQbmsehtHsK-59DomxELh5gD4X&ll=45.57087299999998%2C-73.63287300000002&z=13',\n",
    "               'https://www.google.com/maps/d/u/0/viewer?mid=1qlSKPsGQbmsehtHsK-59DomxELh5gD4X&ll=45.58662600000001%2C-73.597534&z=13',\n",
    "              'https://www.google.com/maps/d/u/0/viewer?mid=1qlSKPsGQbmsehtHsK-59DomxELh5gD4X&ll=45.569048000000066%2C-73.63539700000001&z=13',\n",
    "              'https://www.google.com/maps/d/u/0/viewer?mid=1qlSKPsGQbmsehtHsK-59DomxELh5gD4X&ll=45.565422000000005%2C-73.60729399999998&z=13',\n",
    "              'https://www.google.com/maps/d/u/0/viewer?mid=1qlSKPsGQbmsehtHsK-59DomxELh5gD4X&ll=45.57765600000006%2C-73.609994&z=13',\n",
    "              'https://www.google.com/maps/d/u/0/viewer?mid=1qlSKPsGQbmsehtHsK-59DomxELh5gD4X&ll=45.574599000000006%2C-73.60965600000002&z=13',\n",
    "               'https://www.google.com/maps/d/u/0/viewer?mid=1qlSKPsGQbmsehtHsK-59DomxELh5gD4X&ll=45.54374400000001%2C-73.613808&z=13',\n",
    "               'https://www.google.com/maps/d/u/0/viewer?mid=1qlSKPsGQbmsehtHsK-59DomxELh5gD4X&ll=45.56322999999996%2C-73.62346800000002&z=13',\n",
    "               'https://www.google.com/maps/d/u/0/viewer?mid=1qlSKPsGQbmsehtHsK-59DomxELh5gD4X&ll=45.563062000000016%2C-73.61742999999998&z=13',\n",
    "               'https://www.google.com/maps/d/u/0/viewer?mid=1qlSKPsGQbmsehtHsK-59DomxELh5gD4X&ll=45.559727%2C-73.600007&z=13',\n",
    "               'https://www.google.com/maps/d/u/0/viewer?mid=1qlSKPsGQbmsehtHsK-59DomxELh5gD4X&ll=45.563032%2C-73.629919&z=13',\n",
    "               'https://www.google.com/maps/d/u/0/viewer?mid=1qlSKPsGQbmsehtHsK-59DomxELh5gD4X&ll=45.57387799999998%2C-73.621808&z=13',\n",
    "               'https://www.google.com/maps/d/u/0/viewer?mid=1qlSKPsGQbmsehtHsK-59DomxELh5gD4X&ll=45.568360999999996%2C-73.63616400000001&z=13',\n",
    "               'https://www.google.com/maps/d/u/0/viewer?mid=1qlSKPsGQbmsehtHsK-59DomxELh5gD4X&ll=45.567944000000026%2C-73.636894&z=13',\n",
    "               'https://www.google.com/maps/d/u/0/viewer?mid=1qlSKPsGQbmsehtHsK-59DomxELh5gD4X&ll=45.56788399999999%2C-73.63646500000002&z=13',\n",
    "               'https://www.google.com/maps/d/u/0/viewer?mid=1qlSKPsGQbmsehtHsK-59DomxELh5gD4X&ll=45.577594999999995%2C-73.610408&z=13',\n",
    "               'https://www.google.com/maps/d/u/0/viewer?mid=1qlSKPsGQbmsehtHsK-59DomxELh5gD4X&ll=45.57050000000001%2C-73.614234&z=13',\n",
    "               'https://www.google.com/maps/d/u/0/viewer?mid=1qlSKPsGQbmsehtHsK-59DomxELh5gD4X&ll=45.57808899999999%2C-73.613815&z=13',\n",
    "               'https://www.google.com/maps/d/u/0/viewer?mid=1qlSKPsGQbmsehtHsK-59DomxELh5gD4X&ll=45.577462000000004%2C-73.60989&z=13'\n",
    "              ]"
   ]
  },
  {
   "cell_type": "code",
   "execution_count": 76,
   "id": "d1c9fb8f",
   "metadata": {},
   "outputs": [],
   "source": [
    "lat_arr = []\n",
    "for i in urls_mylene:\n",
    "   \n",
    "    lat_arr.append(getll(i)['lat'])\n",
    "    "
   ]
  },
  {
   "cell_type": "code",
   "execution_count": 79,
   "id": "50b632ff",
   "metadata": {},
   "outputs": [],
   "source": [
    "lng_arr = []\n",
    "for i in urls_mylene:\n",
    "   \n",
    "    lng_arr.append(getll(i)['lng'])"
   ]
  },
  {
   "cell_type": "code",
   "execution_count": 80,
   "id": "71932c8e",
   "metadata": {},
   "outputs": [
    {
     "data": {
      "text/plain": [
       "['45.57087299999998',\n",
       " '45.58662600000001',\n",
       " '45.569048000000066',\n",
       " '45.565422000000005',\n",
       " '45.57765600000006',\n",
       " '45.574599000000006',\n",
       " '45.54374400000001',\n",
       " '45.56322999999996',\n",
       " '45.563062000000016',\n",
       " '45.559727',\n",
       " '45.563032',\n",
       " '45.57387799999998',\n",
       " '45.568360999999996',\n",
       " '45.567944000000026',\n",
       " '45.56788399999999',\n",
       " '45.577594999999995',\n",
       " '45.57050000000001',\n",
       " '45.57808899999999',\n",
       " '45.577462000000004']"
      ]
     },
     "execution_count": 80,
     "metadata": {},
     "output_type": "execute_result"
    }
   ],
   "source": [
    "lng_arr"
   ]
  },
  {
   "cell_type": "code",
   "execution_count": 57,
   "id": "6133a800",
   "metadata": {},
   "outputs": [],
   "source": [
    "test = getll(urls_mylene[0])['lng']"
   ]
  },
  {
   "cell_type": "code",
   "execution_count": 98,
   "id": "d725d09e",
   "metadata": {},
   "outputs": [],
   "source": [
    "data = {'latitude':lng_arr, 'longitude':lat_arr }"
   ]
  },
  {
   "cell_type": "code",
   "execution_count": 99,
   "id": "0c906e78",
   "metadata": {},
   "outputs": [],
   "source": [
    "import pandas as pd\n",
    "df = pd.DataFrame(data)"
   ]
  },
  {
   "cell_type": "code",
   "execution_count": 100,
   "id": "f40806b7",
   "metadata": {},
   "outputs": [
    {
     "data": {
      "text/html": [
       "<div>\n",
       "<style scoped>\n",
       "    .dataframe tbody tr th:only-of-type {\n",
       "        vertical-align: middle;\n",
       "    }\n",
       "\n",
       "    .dataframe tbody tr th {\n",
       "        vertical-align: top;\n",
       "    }\n",
       "\n",
       "    .dataframe thead th {\n",
       "        text-align: right;\n",
       "    }\n",
       "</style>\n",
       "<table border=\"1\" class=\"dataframe\">\n",
       "  <thead>\n",
       "    <tr style=\"text-align: right;\">\n",
       "      <th></th>\n",
       "      <th>latitude</th>\n",
       "      <th>longitude</th>\n",
       "    </tr>\n",
       "  </thead>\n",
       "  <tbody>\n",
       "    <tr>\n",
       "      <th>0</th>\n",
       "      <td>45.57087299999998</td>\n",
       "      <td>-73.63287300000002</td>\n",
       "    </tr>\n",
       "    <tr>\n",
       "      <th>1</th>\n",
       "      <td>45.58662600000001</td>\n",
       "      <td>-73.597534</td>\n",
       "    </tr>\n",
       "    <tr>\n",
       "      <th>2</th>\n",
       "      <td>45.569048000000066</td>\n",
       "      <td>-73.63539700000001</td>\n",
       "    </tr>\n",
       "    <tr>\n",
       "      <th>3</th>\n",
       "      <td>45.565422000000005</td>\n",
       "      <td>-73.60729399999998</td>\n",
       "    </tr>\n",
       "    <tr>\n",
       "      <th>4</th>\n",
       "      <td>45.57765600000006</td>\n",
       "      <td>-73.609994</td>\n",
       "    </tr>\n",
       "    <tr>\n",
       "      <th>5</th>\n",
       "      <td>45.574599000000006</td>\n",
       "      <td>-73.60965600000002</td>\n",
       "    </tr>\n",
       "    <tr>\n",
       "      <th>6</th>\n",
       "      <td>45.54374400000001</td>\n",
       "      <td>-73.613808</td>\n",
       "    </tr>\n",
       "    <tr>\n",
       "      <th>7</th>\n",
       "      <td>45.56322999999996</td>\n",
       "      <td>-73.62346800000002</td>\n",
       "    </tr>\n",
       "    <tr>\n",
       "      <th>8</th>\n",
       "      <td>45.563062000000016</td>\n",
       "      <td>-73.61742999999998</td>\n",
       "    </tr>\n",
       "    <tr>\n",
       "      <th>9</th>\n",
       "      <td>45.559727</td>\n",
       "      <td>-73.600007</td>\n",
       "    </tr>\n",
       "    <tr>\n",
       "      <th>10</th>\n",
       "      <td>45.563032</td>\n",
       "      <td>-73.629919</td>\n",
       "    </tr>\n",
       "    <tr>\n",
       "      <th>11</th>\n",
       "      <td>45.57387799999998</td>\n",
       "      <td>-73.621808</td>\n",
       "    </tr>\n",
       "    <tr>\n",
       "      <th>12</th>\n",
       "      <td>45.568360999999996</td>\n",
       "      <td>-73.63616400000001</td>\n",
       "    </tr>\n",
       "    <tr>\n",
       "      <th>13</th>\n",
       "      <td>45.567944000000026</td>\n",
       "      <td>-73.636894</td>\n",
       "    </tr>\n",
       "    <tr>\n",
       "      <th>14</th>\n",
       "      <td>45.56788399999999</td>\n",
       "      <td>-73.63646500000002</td>\n",
       "    </tr>\n",
       "    <tr>\n",
       "      <th>15</th>\n",
       "      <td>45.577594999999995</td>\n",
       "      <td>-73.610408</td>\n",
       "    </tr>\n",
       "    <tr>\n",
       "      <th>16</th>\n",
       "      <td>45.57050000000001</td>\n",
       "      <td>-73.614234</td>\n",
       "    </tr>\n",
       "    <tr>\n",
       "      <th>17</th>\n",
       "      <td>45.57808899999999</td>\n",
       "      <td>-73.613815</td>\n",
       "    </tr>\n",
       "    <tr>\n",
       "      <th>18</th>\n",
       "      <td>45.577462000000004</td>\n",
       "      <td>-73.60989</td>\n",
       "    </tr>\n",
       "  </tbody>\n",
       "</table>\n",
       "</div>"
      ],
      "text/plain": [
       "              latitude           longitude\n",
       "0    45.57087299999998  -73.63287300000002\n",
       "1    45.58662600000001          -73.597534\n",
       "2   45.569048000000066  -73.63539700000001\n",
       "3   45.565422000000005  -73.60729399999998\n",
       "4    45.57765600000006          -73.609994\n",
       "5   45.574599000000006  -73.60965600000002\n",
       "6    45.54374400000001          -73.613808\n",
       "7    45.56322999999996  -73.62346800000002\n",
       "8   45.563062000000016  -73.61742999999998\n",
       "9            45.559727          -73.600007\n",
       "10           45.563032          -73.629919\n",
       "11   45.57387799999998          -73.621808\n",
       "12  45.568360999999996  -73.63616400000001\n",
       "13  45.567944000000026          -73.636894\n",
       "14   45.56788399999999  -73.63646500000002\n",
       "15  45.577594999999995          -73.610408\n",
       "16   45.57050000000001          -73.614234\n",
       "17   45.57808899999999          -73.613815\n",
       "18  45.577462000000004           -73.60989"
      ]
     },
     "execution_count": 100,
     "metadata": {},
     "output_type": "execute_result"
    }
   ],
   "source": [
    "df"
   ]
  },
  {
   "cell_type": "code",
   "execution_count": 93,
   "id": "3eaa4494",
   "metadata": {},
   "outputs": [
    {
     "data": {
      "text/html": [
       "<div>\n",
       "<style scoped>\n",
       "    .dataframe tbody tr th:only-of-type {\n",
       "        vertical-align: middle;\n",
       "    }\n",
       "\n",
       "    .dataframe tbody tr th {\n",
       "        vertical-align: top;\n",
       "    }\n",
       "\n",
       "    .dataframe thead th {\n",
       "        text-align: right;\n",
       "    }\n",
       "</style>\n",
       "<table border=\"1\" class=\"dataframe\">\n",
       "  <thead>\n",
       "    <tr style=\"text-align: right;\">\n",
       "      <th></th>\n",
       "    </tr>\n",
       "  </thead>\n",
       "  <tbody>\n",
       "  </tbody>\n",
       "</table>\n",
       "</div>"
      ],
      "text/plain": [
       "Empty DataFrame\n",
       "Columns: []\n",
       "Index: []"
      ]
     },
     "execution_count": 93,
     "metadata": {},
     "output_type": "execute_result"
    }
   ],
   "source": [
    "df"
   ]
  },
  {
   "cell_type": "code",
   "execution_count": 101,
   "id": "c6dd93bf",
   "metadata": {},
   "outputs": [],
   "source": [
    "df.to_csv('noslignesdedesirs_mylene.tsv', sep = '\\t')\n"
   ]
  },
  {
   "cell_type": "code",
   "execution_count": 90,
   "id": "8af91735",
   "metadata": {},
   "outputs": [],
   "source": [
    "import numpy as np"
   ]
  },
  {
   "cell_type": "code",
   "execution_count": 91,
   "id": "57562a36",
   "metadata": {},
   "outputs": [
    {
     "ename": "ValueError",
     "evalue": "Shape of passed values is (2, 19), indices imply (2, 2)",
     "output_type": "error",
     "traceback": [
      "\u001b[0;31m---------------------------------------------------------------------------\u001b[0m",
      "\u001b[0;31mValueError\u001b[0m                                Traceback (most recent call last)",
      "\u001b[0;32m/var/folders/gx/l7_m0cc16j53v0l5k8ncqr1w0000gn/T/ipykernel_3377/118234957.py\u001b[0m in \u001b[0;36m<module>\u001b[0;34m\u001b[0m\n\u001b[0;32m----> 1\u001b[0;31m \u001b[0mdf\u001b[0m \u001b[0;34m=\u001b[0m \u001b[0mpd\u001b[0m\u001b[0;34m.\u001b[0m\u001b[0mDataFrame\u001b[0m\u001b[0;34m(\u001b[0m\u001b[0mnp\u001b[0m\u001b[0;34m.\u001b[0m\u001b[0marray\u001b[0m\u001b[0;34m(\u001b[0m\u001b[0;34m[\u001b[0m\u001b[0mlat_arr\u001b[0m\u001b[0;34m,\u001b[0m \u001b[0mlng_arr\u001b[0m\u001b[0;34m]\u001b[0m\u001b[0;34m)\u001b[0m\u001b[0;34m,\u001b[0m \u001b[0mcolumns\u001b[0m\u001b[0;34m=\u001b[0m\u001b[0;34m[\u001b[0m\u001b[0;34m'latitude'\u001b[0m\u001b[0;34m,\u001b[0m\u001b[0;34m'longitude'\u001b[0m\u001b[0;34m]\u001b[0m\u001b[0;34m)\u001b[0m\u001b[0;34m\u001b[0m\u001b[0;34m\u001b[0m\u001b[0m\n\u001b[0m",
      "\u001b[0;32m~/opt/anaconda3/lib/python3.9/site-packages/pandas/core/frame.py\u001b[0m in \u001b[0;36m__init__\u001b[0;34m(self, data, index, columns, dtype, copy)\u001b[0m\n\u001b[1;32m    670\u001b[0m                 )\n\u001b[1;32m    671\u001b[0m             \u001b[0;32melse\u001b[0m\u001b[0;34m:\u001b[0m\u001b[0;34m\u001b[0m\u001b[0;34m\u001b[0m\u001b[0m\n\u001b[0;32m--> 672\u001b[0;31m                 mgr = ndarray_to_mgr(\n\u001b[0m\u001b[1;32m    673\u001b[0m                     \u001b[0mdata\u001b[0m\u001b[0;34m,\u001b[0m\u001b[0;34m\u001b[0m\u001b[0;34m\u001b[0m\u001b[0m\n\u001b[1;32m    674\u001b[0m                     \u001b[0mindex\u001b[0m\u001b[0;34m,\u001b[0m\u001b[0;34m\u001b[0m\u001b[0;34m\u001b[0m\u001b[0m\n",
      "\u001b[0;32m~/opt/anaconda3/lib/python3.9/site-packages/pandas/core/internals/construction.py\u001b[0m in \u001b[0;36mndarray_to_mgr\u001b[0;34m(values, index, columns, dtype, copy, typ)\u001b[0m\n\u001b[1;32m    322\u001b[0m     )\n\u001b[1;32m    323\u001b[0m \u001b[0;34m\u001b[0m\u001b[0m\n\u001b[0;32m--> 324\u001b[0;31m     \u001b[0m_check_values_indices_shape_match\u001b[0m\u001b[0;34m(\u001b[0m\u001b[0mvalues\u001b[0m\u001b[0;34m,\u001b[0m \u001b[0mindex\u001b[0m\u001b[0;34m,\u001b[0m \u001b[0mcolumns\u001b[0m\u001b[0;34m)\u001b[0m\u001b[0;34m\u001b[0m\u001b[0;34m\u001b[0m\u001b[0m\n\u001b[0m\u001b[1;32m    325\u001b[0m \u001b[0;34m\u001b[0m\u001b[0m\n\u001b[1;32m    326\u001b[0m     \u001b[0;32mif\u001b[0m \u001b[0mtyp\u001b[0m \u001b[0;34m==\u001b[0m \u001b[0;34m\"array\"\u001b[0m\u001b[0;34m:\u001b[0m\u001b[0;34m\u001b[0m\u001b[0;34m\u001b[0m\u001b[0m\n",
      "\u001b[0;32m~/opt/anaconda3/lib/python3.9/site-packages/pandas/core/internals/construction.py\u001b[0m in \u001b[0;36m_check_values_indices_shape_match\u001b[0;34m(values, index, columns)\u001b[0m\n\u001b[1;32m    391\u001b[0m         \u001b[0mpassed\u001b[0m \u001b[0;34m=\u001b[0m \u001b[0mvalues\u001b[0m\u001b[0;34m.\u001b[0m\u001b[0mshape\u001b[0m\u001b[0;34m\u001b[0m\u001b[0;34m\u001b[0m\u001b[0m\n\u001b[1;32m    392\u001b[0m         \u001b[0mimplied\u001b[0m \u001b[0;34m=\u001b[0m \u001b[0;34m(\u001b[0m\u001b[0mlen\u001b[0m\u001b[0;34m(\u001b[0m\u001b[0mindex\u001b[0m\u001b[0;34m)\u001b[0m\u001b[0;34m,\u001b[0m \u001b[0mlen\u001b[0m\u001b[0;34m(\u001b[0m\u001b[0mcolumns\u001b[0m\u001b[0;34m)\u001b[0m\u001b[0;34m)\u001b[0m\u001b[0;34m\u001b[0m\u001b[0;34m\u001b[0m\u001b[0m\n\u001b[0;32m--> 393\u001b[0;31m         \u001b[0;32mraise\u001b[0m \u001b[0mValueError\u001b[0m\u001b[0;34m(\u001b[0m\u001b[0;34mf\"Shape of passed values is {passed}, indices imply {implied}\"\u001b[0m\u001b[0;34m)\u001b[0m\u001b[0;34m\u001b[0m\u001b[0;34m\u001b[0m\u001b[0m\n\u001b[0m\u001b[1;32m    394\u001b[0m \u001b[0;34m\u001b[0m\u001b[0m\n\u001b[1;32m    395\u001b[0m \u001b[0;34m\u001b[0m\u001b[0m\n",
      "\u001b[0;31mValueError\u001b[0m: Shape of passed values is (2, 19), indices imply (2, 2)"
     ]
    }
   ],
   "source": [
    "data = {'l'}"
   ]
  },
  {
   "cell_type": "code",
   "execution_count": null,
   "id": "19987720",
   "metadata": {},
   "outputs": [],
   "source": []
  }
 ],
 "metadata": {
  "kernelspec": {
   "display_name": "Python 3 (ipykernel)",
   "language": "python",
   "name": "python3"
  },
  "language_info": {
   "codemirror_mode": {
    "name": "ipython",
    "version": 3
   },
   "file_extension": ".py",
   "mimetype": "text/x-python",
   "name": "python",
   "nbconvert_exporter": "python",
   "pygments_lexer": "ipython3",
   "version": "3.9.7"
  }
 },
 "nbformat": 4,
 "nbformat_minor": 5
}
